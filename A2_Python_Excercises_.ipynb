{
  "nbformat": 4,
  "nbformat_minor": 0,
  "metadata": {
    "colab": {
      "provenance": [],
      "authorship_tag": "ABX9TyMWhf+IoaUvmxidAP6HGDUl",
      "include_colab_link": true
    },
    "kernelspec": {
      "name": "python3",
      "display_name": "Python 3"
    },
    "language_info": {
      "name": "python"
    }
  },
  "cells": [
    {
      "cell_type": "markdown",
      "metadata": {
        "id": "view-in-github",
        "colab_type": "text"
      },
      "source": [
        "<a href=\"https://colab.research.google.com/github/KellyTamez/Artificial_Intelligence/blob/main/A2_Python_Excercises_.ipynb\" target=\"_parent\"><img src=\"https://colab.research.google.com/assets/colab-badge.svg\" alt=\"Open In Colab\"/></a>"
      ]
    },
    {
      "cell_type": "markdown",
      "source": [
        "# **Artificial Intelligence.**\n",
        "**A2.- Python Excercises.**\n",
        "\n",
        "**Instructor:** ENG. Daniel Isaías López Paez.\n",
        "\n",
        "**Name:** Kelly Marlen Tamez González \n",
        "\n",
        "**Student ID:** 1925823\n",
        "\n",
        "**Class Date and Time:** Tuesday N4."
      ],
      "metadata": {
        "id": "Nv7kcL-MGZdg"
      }
    },
    {
      "cell_type": "markdown",
      "source": [
        "\n",
        "**-Excercise No. 1:** Develop an algorithm that can make the conversion from decimal to binary system (from 0 to 255).  "
      ],
      "metadata": {
        "id": "7XzHd08MOxIu"
      }
    },
    {
      "cell_type": "code",
      "source": [
        "def conversionToBin(num):\n",
        "    if num >= 1: #conditioning the decimal number to be greater or equal to 1\n",
        "        conversionToBin(num//2) #dividing the decimal number by 2 \n",
        "    print(num%2) #printing the remainder of the previous division\n",
        "\n",
        "decimal = int(input(\"Number in decimal: \")) #asking for the decimal number\n",
        "\n",
        "conversionToBin(decimal) #calling the function\n"
      ],
      "metadata": {
        "id": "q5YZwvrSt8JX",
        "colab": {
          "base_uri": "https://localhost:8080/"
        },
        "outputId": "20e11d94-7684-492f-e2f6-6b6217078872"
      },
      "execution_count": 37,
      "outputs": [
        {
          "output_type": "stream",
          "name": "stdout",
          "text": [
            "Number in decimal: 90\n",
            "0\n",
            "1\n",
            "0\n",
            "1\n",
            "1\n",
            "0\n",
            "1\n",
            "0\n"
          ]
        }
      ]
    },
    {
      "cell_type": "markdown",
      "source": [
        "**-Excercise No. 2:** Math Pyramid: This algorithm will create a math pyramid from an initial list of integers.\n"
      ],
      "metadata": {
        "id": "LLcIyMbSOmQI"
      }
    },
    {
      "cell_type": "code",
      "source": [
        "numbers= [20,5,10,8]\n",
        "print (numbers) #it prints the first numbers\n",
        "num1 = [20,5]\n",
        "num_1 = sum(num1) #the sum of the first two digits\n",
        "num2 = [5,10]\n",
        "num_2 = sum(num2) #the sum of the second two digits\n",
        "num3 =[10,8]\n",
        "num_3 =sum(num3) #the sum of the remaining two digits\n",
        "print ([num_1] + [num_2]+ [num_3]) #printing the new set of digits\n",
        "num4 = [25,15]\n",
        "num_4 = sum(num4) #the sum of the first two digits\n",
        "num5 = [15,18]\n",
        "num_5 = sum(num5) #the sum of the remaining two digits\n",
        "print ([num_4]+ [num_5]) #printing the new set of digits\n",
        "num6 =[40,33] \n",
        "num_6 =sum(num6) #the sum of the last\n",
        "print ([num_6]) #printing the last digit"
      ],
      "metadata": {
        "colab": {
          "base_uri": "https://localhost:8080/"
        },
        "id": "21VxByE2nLGr",
        "outputId": "8fefbc63-bd8d-481c-f281-55ceb55de972"
      },
      "execution_count": 36,
      "outputs": [
        {
          "output_type": "stream",
          "name": "stdout",
          "text": [
            "[20, 5, 10, 8]\n",
            "[25, 15, 18]\n",
            "[40, 33]\n",
            "[73]\n"
          ]
        }
      ]
    }
  ]
}